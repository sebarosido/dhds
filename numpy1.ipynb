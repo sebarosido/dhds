{
 "cells": [
  {
   "cell_type": "code",
   "execution_count": 1,
   "metadata": {},
   "outputs": [],
   "source": [
    "import numpy as np"
   ]
  },
  {
   "cell_type": "code",
   "execution_count": null,
   "metadata": {},
   "outputs": [],
   "source": [
    "# dimensiones de los vectores\n",
    "\n",
    "# 0 dimensiones\n",
    "escalar_0d = 10\n",
    "\n",
    "# 1 dimension\n",
    "vector_1d = np.array([1,2,3,4,5])\n",
    "\n",
    "#2 dimensiones \n",
    "matriz_2d = np.array([[1,2,3],[4,5,6], [7,8,9]])\n",
    "\n",
    "#3 dimensiones \n",
    "matriz_3d = np.array([[[1,2,3],[4,5,6], [7,8,9]],[[11,12,13],[14,15,16], [17,18,19]]] )\n",
    "\n",
    "print(escalar_0d)\n",
    "print(\"-\" * 100)\n",
    "\n",
    "print(vector_1d)\n",
    "print(\"-\" * 100)\n",
    "\n",
    "print(matriz_2d)\n",
    "print(\"-\" * 100)\n",
    "\n",
    "print(matriz_3d)\n",
    "print(type(matriz_3d))\n",
    "# ndim nos da la cantidad de dimensiones\n",
    "print(f\" la matriz tiene {matriz_3d.ndim} dimensiones\") \n",
    "# devuelve (2,3,3) 2 matrices, 3 filas, 3 columnas\n",
    "print(f\" la cantidad de matrices, filas y columnas es {matriz_3d.shape}\") "
   ]
  }
 ],
 "metadata": {
  "kernelspec": {
   "display_name": "Python 3.8.13 ('dhdsblend2021')",
   "language": "python",
   "name": "python3"
  },
  "language_info": {
   "codemirror_mode": {
    "name": "ipython",
    "version": 3
   },
   "file_extension": ".py",
   "mimetype": "text/x-python",
   "name": "python",
   "nbconvert_exporter": "python",
   "pygments_lexer": "ipython3",
   "version": "3.8.13"
  },
  "orig_nbformat": 4,
  "vscode": {
   "interpreter": {
    "hash": "a6fdff4e5b31a0cf10f0e28fbc04ee3016670397a313c62288f29ecb8c05a4df"
   }
  }
 },
 "nbformat": 4,
 "nbformat_minor": 2
}
